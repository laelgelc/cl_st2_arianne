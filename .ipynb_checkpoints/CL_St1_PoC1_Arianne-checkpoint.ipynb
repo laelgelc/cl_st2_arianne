{
 "cells": [
  {
   "cell_type": "markdown",
   "id": "810d9f10-ec19-4b09-8f90-e983e460b319",
   "metadata": {},
   "source": [
    "<center>\n",
    "<img src=\"https://laelgelcpublic.s3.sa-east-1.amazonaws.com/lael_50_years_narrow_white.png.no_years.400px_96dpi.png\" width=\"300\" alt=\"LAEL 50 years logo\">\n",
    "<h3>APPLIED LINGUISTICS GRADUATE PROGRAMME (LAEL)</h3>\n",
    "</center>\n",
    "<hr>"
   ]
  },
  {
   "cell_type": "markdown",
   "id": "888c2c96-2fc3-4a1a-995b-c388036a2a15",
   "metadata": {},
   "source": [
    "# Corpus Linguistics - Study 2 - Proof of Concept 1 - Arianne"
   ]
  },
  {
   "cell_type": "markdown",
   "id": "60552836-4e24-45fa-a537-692248055ea1",
   "metadata": {},
   "source": [
    "This Proof of Concept scrapes data from a dynamic web page."
   ]
  },
  {
   "cell_type": "markdown",
   "id": "a685d8b0-7715-45a6-9489-2d3db9b346c8",
   "metadata": {},
   "source": [
    "## Required Python packages"
   ]
  },
  {
   "cell_type": "markdown",
   "id": "c0e16e73-b1b9-4838-8cce-a29dc300868e",
   "metadata": {},
   "source": [
    "- beautifulsoup4\n",
    "- selenium"
   ]
  },
  {
   "cell_type": "markdown",
   "id": "aa922755-c4d6-4008-9aad-d35e33b18ed7",
   "metadata": {},
   "source": [
    "## Import the required libraries"
   ]
  },
  {
   "cell_type": "code",
   "execution_count": 1,
   "id": "06ebcaf3-5b41-474c-9394-ebc8bec9005f",
   "metadata": {},
   "outputs": [],
   "source": [
    "import os\n",
    "import sys\n",
    "from selenium import webdriver\n",
    "from selenium.webdriver.edge.service import Service\n",
    "from selenium.webdriver.common.by import By\n",
    "from selenium.webdriver.support.ui import WebDriverWait\n",
    "from selenium.webdriver.support import expected_conditions as EC\n",
    "from bs4 import BeautifulSoup"
   ]
  },
  {
   "cell_type": "markdown",
   "id": "e155d903-6a72-45e6-9fa6-dc5de4f67f99",
   "metadata": {},
   "source": [
    "## Define the input variables"
   ]
  },
  {
   "cell_type": "code",
   "execution_count": 7,
   "id": "0731e4f2-9f81-4dd6-881f-7cde718f1268",
   "metadata": {},
   "outputs": [],
   "source": [
    "output_directory = 'cl_st2_poc1_output'\n",
    "#un_index_url = 'https://unfccc.int/decisions?f%5B0%5D=body%3A1343'\n",
    "un_index_url = 'https://unfccc.int/documents/626561'\n",
    "#filename = 'un_index'\n",
    "filename = 'un_doc_sample'"
   ]
  },
  {
   "cell_type": "markdown",
   "id": "552c309c-6b71-4bc6-a87d-937be7d81547",
   "metadata": {},
   "source": [
    "## Create the output directory"
   ]
  },
  {
   "cell_type": "code",
   "execution_count": 3,
   "id": "4641bed8-f402-475a-868b-980453329700",
   "metadata": {},
   "outputs": [
    {
     "name": "stdout",
     "output_type": "stream",
     "text": [
      "Output directory already exists.\n"
     ]
    }
   ],
   "source": [
    "# Ensure the output directory exists\n",
    "if not os.path.exists(output_directory):\n",
    "    try:\n",
    "        os.makedirs(output_directory)\n",
    "        print('Output directory successfully created.')\n",
    "    except OSError as e:\n",
    "        print(f\"Failed to create the directory: {e}\")\n",
    "        sys.exit(1)\n",
    "else:\n",
    "    print('Output directory already exists.')"
   ]
  },
  {
   "cell_type": "markdown",
   "id": "a4c20ad4-1513-409b-8887-b62ae971368e",
   "metadata": {},
   "source": [
    "## Web scrape [United Nations - Decisions - Conference of the Parties](https://unfccc.int/decisions?f%5B0%5D=body%3A1343)"
   ]
  },
  {
   "cell_type": "markdown",
   "id": "4c339e2c-ce18-42f4-ba6a-a49e4fdb4fe4",
   "metadata": {},
   "source": [
    "The page initially indicates 12 out of 618 available results. Each time the `Load More` button is pressed, 12 more results are displayed. Therefore, the `Load More` button must be pressed 51 times for the page to load all of the available results."
   ]
  },
  {
   "cell_type": "code",
   "execution_count": 8,
   "id": "b0bac779-5902-452c-81fe-20ec4a8c30b2",
   "metadata": {},
   "outputs": [],
   "source": [
    "# Set up Microsoft Edge WebDriver\n",
    "service = Service(r'C:\\Users\\eyamr\\OneDrive\\00-Technology\\laelgelc\\edgedriver_win64\\msedgedriver.exe')\n",
    "driver = webdriver.Edge(service=service)\n",
    "\n",
    "# Open the target URL\n",
    "driver.get(un_index_url)\n",
    "wait = WebDriverWait(driver, 10)"
   ]
  },
  {
   "cell_type": "markdown",
   "id": "0d5050b7-80ad-449f-ad9e-809334f1be7d",
   "metadata": {},
   "source": [
    "Run the following cell after loading the full page by pressing the `Load More` button."
   ]
  },
  {
   "cell_type": "code",
   "execution_count": 9,
   "id": "7fc7a7fb-3739-4f64-b74e-1649ce4b532c",
   "metadata": {},
   "outputs": [
    {
     "name": "stdout",
     "output_type": "stream",
     "text": [
      "Successfully saved full HTML to cl_st2_poc1_output\\un_doc_sample.html\n",
      "Successfully saved extracted text to cl_st2_poc1_output\\un_doc_sample.txt\n",
      "Closing WebDriver...\n"
     ]
    }
   ],
   "source": [
    "# Extract full page source after loading all results\n",
    "page_source = driver.page_source\n",
    "\n",
    "# Save HTML content to a file\n",
    "html_file_path = os.path.join(output_directory, f\"{filename}.html\")\n",
    "with open(html_file_path, 'w', encoding='utf-8') as html_file:\n",
    "    html_file.write(page_source)\n",
    "print(f\"Successfully saved full HTML to {html_file_path}\")\n",
    "\n",
    "# Extract text from 'h' and 'p' tags\n",
    "soup = BeautifulSoup(page_source, 'lxml')\n",
    "text_content = [tag.get_text(strip=True) for tag in soup.find_all(['h1', 'h2', 'h3', 'h4', 'h5', 'h6', 'p'])]\n",
    "\n",
    "# Save extracted text to a file\n",
    "text_file_path = os.path.join(output_directory, f\"{filename}.txt\")\n",
    "with open(text_file_path, 'w', encoding='utf-8') as text_file:\n",
    "    text_file.write('\\n'.join(text_content))\n",
    "print(f\"Successfully saved extracted text to {text_file_path}\")\n",
    "\n",
    "print('Closing WebDriver...')\n",
    "driver.quit()"
   ]
  },
  {
   "cell_type": "code",
   "execution_count": null,
   "id": "23f611f5-5597-4a6d-a0f7-9b316e02d372",
   "metadata": {},
   "outputs": [],
   "source": []
  }
 ],
 "metadata": {
  "kernelspec": {
   "display_name": "Python 3 (ipykernel)",
   "language": "python",
   "name": "python3"
  },
  "language_info": {
   "codemirror_mode": {
    "name": "ipython",
    "version": 3
   },
   "file_extension": ".py",
   "mimetype": "text/x-python",
   "name": "python",
   "nbconvert_exporter": "python",
   "pygments_lexer": "ipython3",
   "version": "3.12.9"
  }
 },
 "nbformat": 4,
 "nbformat_minor": 5
}
